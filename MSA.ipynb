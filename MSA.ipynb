{
 "cells": [
  {
   "cell_type": "code",
   "execution_count": 2,
   "metadata": {},
   "outputs": [],
   "source": [
    "# Install required libraries\n",
    "\n",
    "#using Pkg\n",
    "#Pkg.add(\"FASTX\")\n",
    "using FASTX\n",
    "using Distributions"
   ]
  },
  {
   "cell_type": "code",
   "execution_count": 3,
   "metadata": {},
   "outputs": [
    {
     "data": {
      "text/plain": [
       "codify_chromosome (generic function with 1 method)"
      ]
     },
     "execution_count": 3,
     "metadata": {},
     "output_type": "execute_result"
    }
   ],
   "source": [
    "# Codify the chromosome\n",
    "\n",
    "function codify_chromosome(msa)\n",
    "\n",
    "    # initialize matrix\n",
    "    chromosome = [[0 for j in 1:length(msa[1])] for i in 1:length(msa)] \n",
    "                            \n",
    "    # codify each sequence in the alignment \n",
    "    for i in 1:length(msa)\n",
    "        count = 0\n",
    "        for j in 1:length(msa[i])\n",
    "            if msa[i][j] == '-'\n",
    "                chromosome[i][j] = count*(-1) \n",
    "            else\n",
    "                count = count + 1\n",
    "                chromosome[i][j] = count\n",
    "            end\n",
    "        end\n",
    "    end\n",
    "    \n",
    "    return chromosome\n",
    "end\n",
    "\n",
    "#codify_chromosome([\"ABCDEFGH--\",\"AB----CDEF\",\"ABCD----EF\"])"
   ]
  },
  {
   "cell_type": "code",
   "execution_count": null,
   "metadata": {},
   "outputs": [],
   "source": [
    "# Download pdb files for structure to calculate the STRIKE score"
   ]
  },
  {
   "cell_type": "code",
   "execution_count": 135,
   "metadata": {},
   "outputs": [
    {
     "data": {
      "text/plain": [
       "crossover (generic function with 1 method)"
      ]
     },
     "execution_count": 135,
     "metadata": {},
     "output_type": "execute_result"
    }
   ],
   "source": [
    "# Crossover function\n",
    "# Do not know how to deal with the those sequence where no matching elements are found\n",
    "\n",
    "function get_cut_point(cut_elements,chromosome_coded)\n",
    "    cut_point = 0\n",
    "    for i in 1:length(chromosome_coded)-1\n",
    "        if chromosome_coded[i]==cut_elements[1] && chromosome_coded[i+1]==cut_elements[2]\n",
    "            cut_point = i\n",
    "            break\n",
    "        end\n",
    "    end\n",
    "    return cut_point\n",
    "end\n",
    "\n",
    "function crossover(chromosome_string1, chromosome_coded1,chromosome_string2, chromosome_coded2)\n",
    "    minimum = min(length(chromosome_string1[1]), length(chromosome_string2[1]))\n",
    "    cut_point = rand(2:minimum-1)\n",
    "\n",
    "    diff = 0\n",
    "    cut_points_string2 = []\n",
    "    \n",
    "    for i in 1:length(chromosome_string1)\n",
    "        cut_elements =  [chromosome_coded1[i][cut_point],chromosome_coded1[i][cut_point+1]]\n",
    "        cut_point2 = get_cut_point(cut_elements,chromosome_coded2[i])\n",
    "        diff = max(diff,abs(cut_point-cut_point2))\n",
    "        push!(cut_points_string2,cut_point2)\n",
    "    end\n",
    "    \n",
    "    \"\"\"\n",
    "    for i in 1:length(chromosome_string1)\n",
    "        cut_elements =  [chromosome_coded1[i][cut_point],chromosome_coded1[i][cut_point+1]]\n",
    "        println(chromosome_string1[i])\n",
    "        println(chromosome_string2[i])\n",
    "        println(cut_elements)\n",
    "        println(cut_points_string2[i])\n",
    "    end\n",
    "    println(\"***********************\")\n",
    "    \"\"\" \n",
    "        \n",
    "    crossover_string = []\n",
    "    crossover_coded = []\n",
    "    \n",
    "    for i in 1:length(chromosome_string1)\n",
    "        cut_point2 = cut_points_string2[i]\n",
    "        s1 = chromosome_string1[i][1:cut_point+1]\n",
    "        s2 = chromosome_string2[i][cut_point2+2:length(chromosome_string2[i])]\n",
    "        gaps = \"-\"^abs(diff - abs(cut_point2-cut_point))\n",
    "        \n",
    "        main_string = string(s1,gaps,s2)        \n",
    "        main_coded = codify_chromosome([main_string])\n",
    "        \n",
    "        push!(crossover_string, main_string)\n",
    "        push!(crossover_coded, main_coded)\n",
    "    end\n",
    "    return crossover_string,crossover_coded\n",
    "    \n",
    "end\n",
    "\n",
    "#crossover([\"ACGTT--AC-G-GG-\", \"A-GGCTTTAGG-CG-\", \"AG-G-CT-ATGCAGG\"],[[1, 2, 3, 4, 5, -5, -5, 6, 7, -7, 8, -8, 9, 10, -10], [1, -1, 2, 3, 4, 5, 6, 7, 8, 9, 10, -10, 11, 12, -12], [1, 2, -2, 3, -3, 4, 5, -5, 6, 7, 8, 9, 10, 11, 12]],[\"AC--G--TTA-CGGG\", \"AGGC-T-T-TAGGCG\", \"A-GGCTATGC-A-GG\"],[[1, 2, -2, -2, 3, -3, -3, 4, 5, 6, -6, 7, 8, 9, 10], [1, 2, 3, 4, -4, 5, -5, 6, -6, 7, 8, 9, 10, 11, 12], [1, -1, 2, 3, 4, 5, 6, 7, 8, 9, -9, 10, -10, 11, 12]])"
   ]
  },
  {
   "cell_type": "markdown",
   "metadata": {},
   "source": [
    "# Generating Initial Population\n",
    "<hr>\n",
    "\n",
    "## Function: add_initial_gaps\n",
    "This function simply adds gaps to a sequence\n",
    "\n",
    "### Input :\n",
    "* Gap Count (No. of gaps to be added)\n",
    "* Single Sequence\n",
    "\n",
    "### Output :\n",
    "* Sequence with gaps in it\n",
    "\n",
    "<hr>\n",
    "\n",
    "## Function: generate_single_chromosome\n",
    "This function would take in the multiple sequences and will try to add some number of gaps to every sequence by following\n",
    "the below mentioned instructions:\n",
    "1] Find the sequence with maximum length in the multiple sequennces\n",
    "2] Add gaps ranging from randomly 20-40% in this specific sequence\n",
    "3] Since we have to make every sequence of same length, we would compute the number of gaps needed to add in every sequence\n",
    "to make it similar to the sequence with maximum length.\n",
    "\n",
    "### Input :\n",
    "* Chromosome (Multiple Sequence)\n",
    "\n",
    "### Output :\n",
    "* Chromosome (Multiple Sequences with gaps added to them)\n",
    "\n",
    "<hr>\n",
    "\n",
    "## Function: generate_initial_population\n",
    "This function generates a set of chromosomes after adding gaps to given initial sequence. After adding 20% of chromosomes with gaps in it, we would crossover those sequences in order to generate other 80% of chromosomes. This set of chromosomes would be our initial population.\n",
    "\n",
    "### Input :\n",
    "* Chromosome (Multiple Sequence)\n",
    "* Population Count (Number of chromosomes for initial population)\n",
    "\n",
    "### Output :\n",
    "* TBD"
   ]
  },
  {
   "cell_type": "code",
   "execution_count": 137,
   "metadata": {},
   "outputs": [
    {
     "data": {
      "text/plain": [
       "generate_initial_population (generic function with 1 method)"
      ]
     },
     "execution_count": 137,
     "metadata": {},
     "output_type": "execute_result"
    }
   ],
   "source": [
    "function add_initial_gaps(gap_count,sequence)\n",
    "    for i in 1:gap_count\n",
    "        position  = rand(1:length(sequence))\n",
    "        sequence = string(sequence[1:position],\"-\",sequence[position+1:length(sequence)])\n",
    "    end\n",
    "    return sequence\n",
    "end\n",
    "\n",
    "function generate_single_chromosome(msa)\n",
    "    \n",
    "    new_msa = []\n",
    "    for i in 1:length(msa)\n",
    "        push!(new_msa,\"\")\n",
    "    end\n",
    "    \n",
    "    max_sequence_length = 0\n",
    "    max_sequence_index = 1\n",
    "    for sequence in msa\n",
    "        if length(sequence)>max_sequence_length\n",
    "            max_sequence_length = length(sequence)\n",
    "        max_sequence_index+=1\n",
    "        end\n",
    "    end\n",
    "    \n",
    "    # Update Max Length Sequence\n",
    "    \n",
    "    gap_count = rand(Uniform(0.2,0.4)) * max_sequence_length\n",
    "    new_msa[max_sequence_index] = add_initial_gaps(gap_count,msa[max_sequence_index])\n",
    "    \n",
    "    # Update Rest of the Sequences\n",
    "    \n",
    "    for i in 1:length(msa)\n",
    "        if i==max_sequence_index\n",
    "            continue\n",
    "        end\n",
    "        gap_counts = length(new_msa[max_sequence_index]) - length(msa[i])\n",
    "        new_msa[i] = add_initial_gaps(gap_counts,msa[i])\n",
    "    end\n",
    "    return new_msa\n",
    "end\n",
    "\n",
    "function generate_initial_population(msa,population_count)        \n",
    "    without_crossover = 0.2*population_count\n",
    "    population_string = []\n",
    "    population_coded = []\n",
    "    for i in 1:without_crossover\n",
    "        chromosome = generate_single_chromosome(msa)\n",
    "        push!(population_string,chromosome)\n",
    "    end\n",
    "    \n",
    "    for chromosome in population_string\n",
    "        coded_chromosome = codify_chromosome(chromosome)\n",
    "        push!(population_coded,coded_chromosome)\n",
    "    end\n",
    "    \n",
    "    with_crossover = 0.8*population_count\n",
    "    for i in 1:with_crossover\n",
    "        random1 = Int(rand(1:without_crossover))\n",
    "        random2 = Int(rand(1:without_crossover))\n",
    "        crossover_string, crossover_coded = crossover(population_string[random1],population_coded[random1],population_string[random2],population_coded[random2])\n",
    "        push!(population_string, crossover_string)\n",
    "        push!(population_coded, crossover_coded)\n",
    "    end\n",
    "    return population_string, population_coded\n",
    "end    \n",
    "\n",
    "#generate_initial_population([\"ACGTTACGGG\",\"AGGCTTTAGGCG\",\"AGGCTATGCAGG\"],100)"
   ]
  },
  {
   "cell_type": "code",
   "execution_count": 65,
   "metadata": {},
   "outputs": [
    {
     "data": {
      "text/plain": [
       "([\"ab-fg\", \"ab-fg\", \"abcfg\", \"ab-fg\"], [[1, 2, -2, 3, 4], [1, 2, -2, 3, 4], [1, 2, 3, 4, 5], [1, 2, -2, 3, 4]])"
      ]
     },
     "execution_count": 65,
     "metadata": {},
     "output_type": "execute_result"
    }
   ],
   "source": [
    "# Helper functions\n",
    "\n",
    "\n",
    "function remove_columns_with_all_gaps(sequences, codifications)\n",
    "    \"\"\"\n",
    "    This function removes columns with all gaps from the alignments passed as an input. \n",
    "    \n",
    "    \"\"\"\n",
    "    \n",
    "    columns_with_all_gaps = []\n",
    "    total_seq = length(sequences)\n",
    "    \n",
    "    for (index,nucleotide) in enumerate(sequences[1])\n",
    "        if nucleotide == '-'\n",
    "            column_with_all_gaps = true\n",
    "            \n",
    "            for i in 2:total_seq\n",
    "                if sequences[i][index] != '-'\n",
    "                    column_with_all_gaps = false\n",
    "                    break\n",
    "                end\n",
    "            end\n",
    "            \n",
    "            if column_with_all_gaps\n",
    "                append!(columns_with_all_gaps, index)\n",
    "            end\n",
    "        end\n",
    "    end\n",
    "    \n",
    "    for i in 1:total_seq\n",
    "        sequences[i] = join([c for (i,c) in enumerate(sequences[i]) if ~(i in columns_with_all_gaps)])\n",
    "        codifications[i] = [c for (i,c) in enumerate(codifications[i]) if ~(i in columns_with_all_gaps)]\n",
    "    end\n",
    "                    \n",
    "    return sequences, codifications\n",
    "end\n",
    "                                \n",
    "#remove_columns_with_all_gaps([\"ab---fg\",\"ab---fg\",\"ab-c-fg\",\"ab---fg\"], [[1,2,-2,-2,-2,3,4],[1,2,-2,-2,-2,3,4],[1,2,-2,3,-3,4,5],[1,2,-2,-2,-2,3,4]])\n"
   ]
  },
  {
   "cell_type": "code",
   "execution_count": 4,
   "metadata": {},
   "outputs": [],
   "source": [
    "# Mutation function"
   ]
  },
  {
   "cell_type": "code",
   "execution_count": 6,
   "metadata": {},
   "outputs": [],
   "source": [
    "# Three Objective functions: STRIKE, Totally conserved columns and Percentage of Non-gaps\n",
    "\n",
    "function compute_tc_score(sequences)\n",
    "    no_of_aligned_columns = 0\n",
    "    total_columns = length(sequences[1])\n",
    "    is_aligned = true\n",
    "    for i in 1:total_columns\n",
    "        is_aligned = true\n",
    "        first_residue= sequences[1][i]\n",
    "        if  first_residue != '-'\n",
    "            for j in 1:length(sequences)\n",
    "                if first_residue != sequences[j][i]\n",
    "                    is_aligned = false\n",
    "                    break\n",
    "                end\n",
    "            end\n",
    "            else is_aligned = false\n",
    "        end\n",
    "        if is_aligned \n",
    "            no_of_aligned_columns += 1\n",
    "        end\n",
    "    end\n",
    "    score = (100.0 * no_of_aligned_columns) / total_columns\n",
    "    return score \n",
    "end\n",
    "\n",
    "#Test \n",
    "sequences = [\"AGGCTTT-A-C\", \"CCCAGTG-AT-\",\"GGCFATT-AT\"]\n",
    "print(compute_tc_score(sequences))"
   ]
  },
  {
   "cell_type": "code",
   "execution_count": 7,
   "metadata": {},
   "outputs": [],
   "source": [
    "# MOSAStrE function - This is the main function that implements proposed algorithm"
   ]
  },
  {
   "cell_type": "code",
   "execution_count": 14,
   "metadata": {},
   "outputs": [
    {
     "data": {
      "text/plain": [
       "read_input (generic function with 1 method)"
      ]
     },
     "execution_count": 14,
     "metadata": {},
     "output_type": "execute_result"
    }
   ],
   "source": [
    "# Read sequences from the input file\n",
    "# Reference: https://biojulia.net/FASTX.jl/dev/manual/fasta/\n",
    "\n",
    "function read_input(filename)\n",
    "    reader = open(FASTA.Reader, \"input1.txt\")\n",
    "    \n",
    "    identifiers = []\n",
    "    sequences = []\n",
    "    \n",
    "    for record in reader\n",
    "        push!(identifiers, string(FASTA.identifier(record)))\n",
    "        push!(sequences, string(FASTA.sequence(record)))\n",
    "    end\n",
    "    close(reader)\n",
    "    \n",
    "    return identifiers, sequences\n",
    "end\n",
    "#read_input(\"input1.txt\")\n"
   ]
  },
  {
   "cell_type": "code",
   "execution_count": 42,
   "metadata": {},
   "outputs": [
    {
     "data": {
      "text/plain": [
       "write_output (generic function with 1 method)"
      ]
     },
     "execution_count": 42,
     "metadata": {},
     "output_type": "execute_result"
    }
   ],
   "source": [
    "# Write output alignments to the \"output1.txt\" file\n",
    "# Reference: https://biojulia.net/FASTX.jl/dev/manual/fasta/\n",
    "\n",
    "function write_output()\n",
    "    \n",
    "end "
   ]
  }
 ],
 "metadata": {
  "kernelspec": {
   "display_name": "Julia 1.5.1",
   "language": "julia",
   "name": "julia-1.5"
  },
  "language_info": {
   "file_extension": ".jl",
   "mimetype": "application/julia",
   "name": "julia",
   "version": "1.5.1"
  }
 },
 "nbformat": 4,
 "nbformat_minor": 2
}
