{
 "cells": [
  {
   "cell_type": "code",
   "execution_count": null,
   "metadata": {},
   "outputs": [],
   "source": [
    "# Install required libraries\n",
    "\n",
    "using Pkg\n",
    "Pkg.add(\"FASTX\")\n",
    "\n",
    "using FASTX"
   ]
  },
  {
   "cell_type": "code",
   "execution_count": 38,
   "metadata": {},
   "outputs": [
    {
     "data": {
      "text/plain": [
       "3×11 Array{Int64,2}:\n",
       " 0  1  2   3   4   5   6   7   8  -8  -8\n",
       " 0  1  2  -2  -2  -2  -2   3   4   5   6\n",
       " 0  1  2   3   4  -4  -4  -4  -4   5   6"
      ]
     },
     "execution_count": 38,
     "metadata": {},
     "output_type": "execute_result"
    }
   ],
   "source": [
    "# Codify the chromosome\n",
    "\n",
    "function codify_chromosome(msa)\n",
    "\n",
    "    # initialize matrix\n",
    "    chromosome = zeros(Int64, (length(msa),length(msa[1])))\n",
    "    \n",
    "    # codify each sequence in the alignment \n",
    "    for i in 1:length(msa)\n",
    "        count = 0\n",
    "        for j in 1:length(msa[i])\n",
    "            if msa[i][j] == '-'\n",
    "                chromosome[i,j] = count*(-1) \n",
    "            else\n",
    "                count = count + 1\n",
    "                chromosome[i,j] = count\n",
    "            end\n",
    "        end\n",
    "    end\n",
    "    \n",
    "    return chromosome\n",
    "    \n",
    "end\n",
    "codify_chromosome([\"ABCDEFGH--\",\"AB----CDEF\",\"ABCD----EF\"])\n"
   ]
  },
  {
   "cell_type": "code",
   "execution_count": null,
   "metadata": {},
   "outputs": [],
   "source": [
    "# Download pdb files for structure to calculate the STRIKE score"
   ]
  },
  {
   "cell_type": "code",
   "execution_count": 2,
   "metadata": {},
   "outputs": [],
   "source": [
    "function add_initial_gaps(gap_count,sequence)\n",
    "    for i in 1:gap_count\n",
    "        position  = rand(1:length(sequence))\n",
    "        sequence = string(sequence[1:position],\"-\",sequence[position+1:length(sequence)])\n",
    "    end\n",
    "    return sequence\n",
    "end\n",
    "\n",
    "\"\"\"\n",
    "function : generate_single_chromosome\n",
    "Input : Chromosome (Multiple Sequence)\n",
    "Output : Chromosome (Multiple Sequences with gaps added to them)\n",
    "What it does?\n",
    "This function would take in the multiple sequences and will try to add some number of gaps to every sequence by following\n",
    "the below mentioned instructions:\n",
    "1] Find the sequence with maximum length in the multiple sequennces\n",
    "2] Add gaps ranging from randomly 20-40% in this specific sequence\n",
    "3] Since we have to make every sequence of same length, we would compute the number of gaps needed to add in every sequence\n",
    "to make it similar to the sequence with maximum length.\n",
    "\"\"\"\n",
    "function generate_single_chromosome(msa)\n",
    "    \n",
    "    new_msa = []\n",
    "    for i in 1:length(msa)\n",
    "        push!(new_msa,\"\")\n",
    "    end\n",
    "    \n",
    "    max_sequence_length = 0\n",
    "    max_sequence_index = 1\n",
    "    for sequence in msa\n",
    "        if length(sequence)>max_sequence_length\n",
    "            max_sequence_length = length(sequence)\n",
    "        max_sequence_index+=1\n",
    "        end\n",
    "    end\n",
    "    \n",
    "    # Update Max Length Sequence\n",
    "    \n",
    "    gap_count = rand(Uniform(0.2,0.4)) * max_sequence_length\n",
    "    new_msa[max_sequence_index] = add_initial_gaps(gap_count,msa[max_sequence_index])\n",
    "    \n",
    "    # Update Rest of the Sequences\n",
    "    \n",
    "    for i in 1:length(msa)\n",
    "        if i==max_sequence_index\n",
    "            continue\n",
    "        end\n",
    "        gap_counts = length(new_msa[max_sequence_index]) - length(msa[i])\n",
    "        new_msa[i] = add_initial_gaps(gap_counts,msa[i])\n",
    "    end\n",
    "    return new_msa\n",
    "end\n",
    "\n",
    "function generate_initial_population(msa,population_count)        \n",
    "    without_crossover = 0.2*population_count\n",
    "    population = []\n",
    "    for i in 1:without_crossover\n",
    "        chromosome = generate_single_chromosome(msa)\n",
    "        push!(population,chromosome)\n",
    "    end\n",
    "end    \n",
    "\n",
    "#generate_initial_population([\"ACGTTACGGG\",\"AGGCTTTAGGCG\",\"AGGCTATGCAGG\"],100)"
   ]
  },
  {
   "cell_type": "code",
   "execution_count": 58,
   "metadata": {},
   "outputs": [
    {
     "data": {
      "text/plain": [
       "4-element Array{String,1}:\n",
       " \"ab-fg\"\n",
       " \"ab-fg\"\n",
       " \"abcfg\"\n",
       " \"ab-fg\""
      ]
     },
     "execution_count": 58,
     "metadata": {},
     "output_type": "execute_result"
    }
   ],
   "source": [
    "# Helper functions\n",
    "\n",
    "\n",
    "function remove_columns_with_all_gaps(sequences)\n",
    "    \"\"\"\n",
    "    This function removes columns with all gaps from the alignments passed as an input. \n",
    "    \n",
    "    \"\"\"\n",
    "    \n",
    "    columns_with_all_gaps = []\n",
    "    total_seq = length(sequences)\n",
    "    \n",
    "    for (index,nucleotide) in enumerate(sequences[1])\n",
    "        if nucleotide == '-'\n",
    "            column_with_all_gaps = true\n",
    "            \n",
    "            for i in 2:total_seq\n",
    "                if sequences[i][index] != '-'\n",
    "                    column_with_all_gaps = false\n",
    "                    break\n",
    "                end\n",
    "            end\n",
    "            \n",
    "            if column_with_all_gaps\n",
    "                append!(columns_with_all_gaps, index)\n",
    "            end\n",
    "        end\n",
    "    end\n",
    "    \n",
    "    for i in 1:total_seq\n",
    "        sequences[i] = join([c for (i,c) in enumerate(sequences[i]) if ~(i in columns_with_all_gaps)])\n",
    "    end\n",
    "                    \n",
    "    return sequences\n",
    "end\n",
    "#remove_columns_with_all_gaps([\"ab---fg\",\"ab---fg\",\"ab-c-fg\",\"ab---fg\"])\n"
   ]
  },
  {
   "cell_type": "code",
   "execution_count": 3,
   "metadata": {},
   "outputs": [],
   "source": [
    "# Crossover function"
   ]
  },
  {
   "cell_type": "code",
   "execution_count": 4,
   "metadata": {},
   "outputs": [],
   "source": [
    "# Mutation function"
   ]
  },
  {
   "cell_type": "code",
   "execution_count": 6,
   "metadata": {},
   "outputs": [],
   "source": [
    "# Three Objective functions: STRIKE, Totally conserved columns and Percentage of Non-gaps"
   ]
  },
  {
   "cell_type": "code",
   "execution_count": 7,
   "metadata": {},
   "outputs": [],
   "source": [
    "# MOSAStrE function - This is the main function that implements proposed algorithm"
   ]
  },
  {
   "cell_type": "code",
   "execution_count": 14,
   "metadata": {},
   "outputs": [
    {
     "data": {
      "text/plain": [
       "read_input (generic function with 1 method)"
      ]
     },
     "execution_count": 14,
     "metadata": {},
     "output_type": "execute_result"
    }
   ],
   "source": [
    "# Read sequences from the input file\n",
    "# Reference: https://biojulia.net/FASTX.jl/dev/manual/fasta/\n",
    "\n",
    "function read_input(filename)\n",
    "    reader = open(FASTA.Reader, \"input1.txt\")\n",
    "    \n",
    "    identifiers = []\n",
    "    sequences = []\n",
    "    \n",
    "    for record in reader\n",
    "        push!(identifiers, string(FASTA.identifier(record)))\n",
    "        push!(sequences, string(FASTA.sequence(record)))\n",
    "    end\n",
    "    close(reader)\n",
    "    \n",
    "    return identifiers, sequences\n",
    "end\n",
    "#read_input(\"input1.txt\")\n"
   ]
  },
  {
   "cell_type": "code",
   "execution_count": 42,
   "metadata": {},
   "outputs": [
    {
     "data": {
      "text/plain": [
       "write_output (generic function with 1 method)"
      ]
     },
     "execution_count": 42,
     "metadata": {},
     "output_type": "execute_result"
    }
   ],
   "source": [
    "# Write output alignments to the \"output1.txt\" file\n",
    "# Reference: https://biojulia.net/FASTX.jl/dev/manual/fasta/\n",
    "\n",
    "function write_output()\n",
    "    \n",
    "end "
   ]
  },
  {
   "cell_type": "code",
   "execution_count": 43,
   "metadata": {},
   "outputs": [
    {
     "data": {
      "text/plain": [
       "\"abcdefgh\""
      ]
     },
     "execution_count": 43,
     "metadata": {},
     "output_type": "execute_result"
    }
   ],
   "source": [
    "replace(\"abcd--efgh\",\"-\"=>\"\")"
   ]
  },
  {
   "cell_type": "code",
   "execution_count": 51,
   "metadata": {},
   "outputs": [
    {
     "data": {
      "text/plain": [
       "\"abfe\""
      ]
     },
     "execution_count": 51,
     "metadata": {},
     "output_type": "execute_result"
    }
   ],
   "source": [
    "str = \"abcdfe\"\n",
    "a = [3,4]\n",
    "join([c for (i,c) in enumerate(str) if ~(i in a)])"
   ]
  },
  {
   "cell_type": "code",
   "execution_count": null,
   "metadata": {},
   "outputs": [],
   "source": []
  }
 ],
 "metadata": {
  "kernelspec": {
   "display_name": "Julia 1.5.0",
   "language": "julia",
   "name": "julia-1.5"
  },
  "language_info": {
   "file_extension": ".jl",
   "mimetype": "application/julia",
   "name": "julia",
   "version": "1.5.0"
  }
 },
 "nbformat": 4,
 "nbformat_minor": 2
}
