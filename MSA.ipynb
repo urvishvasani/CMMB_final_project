{
 "cells": [
  {
   "cell_type": "code",
   "execution_count": 38,
   "metadata": {},
   "outputs": [
    {
     "data": {
      "text/plain": [
       "3×11 Array{Int64,2}:\n",
       " 0  1  2   3   4   5   6   7   8  -8  -8\n",
       " 0  1  2  -2  -2  -2  -2   3   4   5   6\n",
       " 0  1  2   3   4  -4  -4  -4  -4   5   6"
      ]
     },
     "execution_count": 38,
     "metadata": {},
     "output_type": "execute_result"
    }
   ],
   "source": [
    "# Codify the chromosome\n",
    "\n",
    "function codify_chromosome(msa)\n",
    "\n",
    "    # initialize matrix\n",
    "    chromosome = zeros(Int64, (length(msa),length(msa[1])))\n",
    "    \n",
    "    # codify each sequence in the alignment \n",
    "    for i in 1:length(msa)\n",
    "        count = 0\n",
    "        for j in 1:length(msa[i])\n",
    "            if msa[i][j] == '-'\n",
    "                chromosome[i,j] = count*(-1) \n",
    "            else\n",
    "                count = count + 1\n",
    "                chromosome[i,j] = count\n",
    "            end\n",
    "        end\n",
    "    end\n",
    "    \n",
    "    return chromosome\n",
    "    \n",
    "end\n",
    "codify_chromosome([\"ABCDEFGH--\",\"AB----CDEF\",\"ABCD----EF\"])\n"
   ]
  },
  {
   "cell_type": "code",
   "execution_count": null,
   "metadata": {},
   "outputs": [],
   "source": [
    "# Download pdb files for structure to calculate the STRIKE score"
   ]
  },
  {
   "cell_type": "code",
   "execution_count": 2,
   "metadata": {},
   "outputs": [],
   "source": [
    "# Create population"
   ]
  },
  {
   "cell_type": "code",
   "execution_count": 3,
   "metadata": {},
   "outputs": [],
   "source": [
    "# Crossover function"
   ]
  },
  {
   "cell_type": "code",
   "execution_count": 4,
   "metadata": {},
   "outputs": [],
   "source": [
    "# Mutation function"
   ]
  },
  {
   "cell_type": "code",
   "execution_count": 6,
   "metadata": {},
   "outputs": [],
   "source": [
    "# Three Objective functions: STRIKE, Totally conserved columns and Percentage of Non-gaps"
   ]
  },
  {
   "cell_type": "code",
   "execution_count": 7,
   "metadata": {},
   "outputs": [],
   "source": [
    "# MOSAStrE function - This is the main function that implements proposed algorithm"
   ]
  },
  {
   "cell_type": "code",
   "execution_count": 8,
   "metadata": {},
   "outputs": [
    {
     "data": {
      "text/plain": [
       "3×4 Array{Float64,2}:\n",
       " 0.0  0.0  0.0  0.0\n",
       " 0.0  0.0  0.0  0.0\n",
       " 0.0  0.0  0.0  0.0"
      ]
     },
     "execution_count": 8,
     "metadata": {},
     "output_type": "execute_result"
    }
   ],
   "source": [
    "a = zeros((3,4))"
   ]
  },
  {
   "cell_type": "code",
   "execution_count": null,
   "metadata": {},
   "outputs": [],
   "source": []
  }
 ],
 "metadata": {
  "kernelspec": {
   "display_name": "Julia 1.5.0",
   "language": "julia",
   "name": "julia-1.5"
  },
  "language_info": {
   "file_extension": ".jl",
   "mimetype": "application/julia",
   "name": "julia",
   "version": "1.5.0"
  }
 },
 "nbformat": 4,
 "nbformat_minor": 2
}
